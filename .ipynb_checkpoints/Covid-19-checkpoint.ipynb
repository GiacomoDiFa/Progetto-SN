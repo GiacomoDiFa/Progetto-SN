{
 "cells": [
  {
   "cell_type": "markdown",
   "metadata": {},
   "source": [
    "# Modelling COVID-19 with a SEIR model\n",
    "\n",
    "The Covid-19 epidemic has caused in Italy and in other countries' a crisis unprecedented in modern times.\n",
    "\n",
    "In this exercise we propose simulating the epidemic with a simple SEIR model.\n",
    "\n",
    "**Nota Bene**: the results obtained should not be considered a serious model of the true values of the epidemic, which depend on much more complex variables."
   ]
  },
  {
   "cell_type": "markdown",
   "metadata": {},
   "source": [
    "## The SEIR model in brief\n",
    "\n",
    "In a population there are several groups of individuals, characterized by four numbers\n",
    "\n",
    "* Susceptibles $S$: number of individuals which can be infected\n",
    "* Exposed $E$: number of individuals which have been infected but are not yet infectious\n",
    "* Infectious $I$: number of individuals which are infectious\n",
    "* Recovered $R$: number of individuals who have been infected and have recovered, acquiring (we hope) an immunity as well.\n",
    "\n",
    "All these quantities are a function of time, which in the following is measured in day.\n",
    "We will call $N(t) = S(t) + E(t) + I(t) + R(t)$ the total number of individuals in the population as a function of time $t$; in the model this number is not constant, and its initial value is $N(0) = N_0$.\n",
    "\n",
    "Furthermore, we introduce several parameters\n",
    "* The natural death rate $\\mu$, namely the fraction of population dying each day: it is assumed equal to the birth rate, to keep the population stable.\n",
    "* The force of the infection $\\beta$: it is related to the probability that a susceptible person, coming in contact with an infected person, gets exposed actually.\n",
    "* The delay from exposition to becoming infectious $\\epsilon$: it is related to the time needed by an exposed person to become infectious.\n",
    "* The rate of recovery $\\gamma$: the inverse of the duration of an illness. We will assume that an infected person is contagious during the whole of his/her illness.\n",
    "\n",
    "All these assumptions allow to model the evolution of the different components of the population; for the susceptible individuals one has\n",
    "\\begin{equation}\n",
    "\\frac{d S}{d t} = \\mu (N - S) - \\beta \\frac{I\\cdot S}{N}\n",
    "\\end{equation}\n",
    "where the first term is the balance between births and natural deaths, the second term is the number of people being exposed per day; remember that $N$ is not constant, $N(t) = S(t) + E(t) + I(t) + R(t)$.\n",
    "\n",
    "The exposed individuals change in time as\n",
    "\\begin{equation}\n",
    "\\frac{d E}{d t} = \\beta \\frac{I\\cdot S}{N} - (\\mu + \\epsilon) E\n",
    "\\end{equation}\n",
    "in which the first is a growth term due to infections, the second is a depletion term due to people dying naturally or becoming infectious.\n",
    "\n",
    "In turn the infectious individuals change as\n",
    "\\begin{equation}\n",
    "\\frac{d I}{d t} = \\epsilon E - (\\gamma + \\mu + \\alpha) I\n",
    "\\end{equation}\n",
    "in which the first term is the number of exposed becoming infectious per unit time, the second term models the reduction in the number of infectious individuals, because they recover ($\\gamma$ term) or die for natural or Covid-19 related causes.\n",
    "\n",
    "Finally for the recovered individuals we have\n",
    "\\begin{equation}\n",
    "\\frac{d R}{d t} = \\gamma I - \\mu R\n",
    "\\end{equation}\n",
    "\n",
    "These equations are nonlinear because of the $\\beta \\frac{I\\cdot S}{N}$ term, and we have therefore to integrate them numerically.\n",
    "\n",
    "The total number of deaths $D_{Covid}(t)$ due to Covid-19 is of course modeled by the equation\n",
    "\n",
    "\\begin{equation}\n",
    "\\frac{d D_{Covid}}{d t} = \\alpha I\n",
    "\\end{equation}\n",
    "\n",
    "which can be confronted with the number of deaths due to other causes\n",
    "\n",
    "\\begin{equation}\n",
    "\\frac{d D_{Other}}{d t} = \\mu N = \\mu (S + E + I + R)\n",
    "\\end{equation}\n",
    "\n",
    "in order to assess the severity of the epidemic."
   ]
  },
  {
   "cell_type": "markdown",
   "metadata": {},
   "source": [
    "## Model parameters\n",
    "\n",
    "We will fix the values of the parameters, assuming the time measured in days:\n",
    "\n",
    "* Birth (or death rate) $\\mu = \\frac{1}{83\\times 365}\\,\\text{day}^{-1}\\simeq 3.3\\cdot 10^{-5}\\,\\text{day}^{-1}$\n",
    "* Infection force $\\beta = 0.25\\,\\text{day}^{-1}$\n",
    "* Recovery rate $\\gamma = \\frac{1}{14}\\,\\text{day}^{-1}$ (which corresponds to an infection lasting two weeks).\n",
    "* Delay rate $\\epsilon = \\frac{1}{3}\\,\\text{day}^{-1}$ (three days to become infectious)\n",
    "* Fatality rate $\\alpha = 0.0015\\,\\text{day}^{-1}$ (during 14 days, about 2\\% of infectious people die)\n",
    "* Total initial population $N_0 = 10^7$ (10 million habitants, as in Lombardy).\n",
    "\n",
    "These values are very uncertain and should not be taken seriously beyond the scope of the exercise. In particular, the fatality rate depends strongly on the quality of the cures received, and if the health system gets overwhelmed it increases significantly.\n",
    "\n",
    "An important derived parameter is the basic reproduction number ${\\cal R}_0$ which represents the average number of new infections due to an infected individual, during his/her illness, assuming the whole population is susceptible: it is therefore given by\n",
    "\\begin{equation}\n",
    "{\\cal R}_0 = \\frac{\\beta \\epsilon}{\\left( \\epsilon + \\mu\\right)\\left(\\gamma + \\alpha + \\mu\\right)}\n",
    "\\end{equation}\n",
    "\n",
    "With the assumed parameters, the basic reproduction number is therefore ${\\cal R}_0 \\simeq 3.4$, similar to what is observed at the peak of infection in Lombardy.\n",
    "\n",
    "To control the infection, a government can reduce the parameter $\\beta$ by imposing a lockdown, as Italy did early in March.\n",
    "\n",
    "We will therefore also use the value $\\beta_{lockdown} = 0.04\\,\\text{day}^{-1}$, which leads to a ${\\cal R}_0 \\simeq 0.55$.\n",
    "\n",
    "We will use both values of $\\beta$ in our simulation."
   ]
  },
  {
   "cell_type": "code",
   "execution_count": 29,
   "metadata": {},
   "outputs": [
    {
     "name": "stdout",
     "output_type": "stream",
     "text": [
      "r0 =  3.426121601097443\n",
      "r0_Lockdown =  0.5481794561755908\n"
     ]
    }
   ],
   "source": [
    "## Check\n",
    "\n",
    "mu = 1/(83 * 365)\n",
    "beta = 0.25\n",
    "betaLockdown = 0.04\n",
    "gamma = 1/14\n",
    "epsilon = 1/3\n",
    "alpha = 0.0015\n",
    "print(\"r0 = \",(beta * epsilon)/((epsilon + mu)*(gamma + alpha + mu)))\n",
    "print(\"r0_Lockdown = \",(betaLockdown * epsilon)/((epsilon + mu)*(gamma + alpha + mu)))"
   ]
  },
  {
   "cell_type": "markdown",
   "metadata": {},
   "source": [
    "## Assignment\n",
    "\n",
    "\n",
    "Write a code which integrates numerically the equations for $S, E, I, R, D_{Covid}, D_{Other}$, with a 1st order in time discretization scheme, for instance the forward Euler scheme.\n",
    "\n",
    "Keep the discretization step $\\Delta t$ distinct from the sampling step $\\Delta t_s$ used to sample and save the values for the different quantities $N, S, E, I, R, D_{Covid}, D_{Other}$. You can keep $\\Delta t_s = 1\\,\\text{day}$, hence at $1$ given that we are measuring the time in days.\n",
    "\n",
    "The parameter $\\beta$ should be also controllable during the simulation.\n",
    "\n",
    "In the simulation, use the parameters discussed in the previous section, and as a starting condition assume that just one individual is exposed: namely $N_0 = 10^7, S_0 = N_0 - 1, E_0 = 1, I_0 = 0, R_0 = 0$. Then, integrate the equations for one year, sampling data each day and producing plots of the various variables.\n",
    "\n",
    "Two simulations should be carried out: in the first one, the parameter $\\beta$ is kept at $0.25\\,\\text{day}^{-1}$; it means that the epidemic is uncontrolled, which is the worst possible case.\n",
    "\n",
    "In the second simulation, at the time when the number of deaths $D(t)$ exceeds $200$, a lockdown is imposed and the parameter $\\beta$ is lowered to $0.04\\,\\text{day}^{-1}$ istantaneously.\n",
    "\n",
    "The purpose is to compare the evolution of the epidemic in the two cases, for instance comparing the number of deaths, but also the number of people simultaneously infected, with and without a lockdown.\n",
    "\n",
    "Plot the number of infected $I$, of recovered $R$ and of deaths $D_{Covid}, D_{Other}$ as a function of time, in the two cases. Superimpose the curves of the same quantitites to allow for a better comparison.\n",
    "\n",
    "Plot also the number of deaths per day, calculated for instance from the difference in the total number of deaths in successive days.\n",
    "\n",
    "Try different values of the integration step $\\Delta t$, for instance $\\Delta t = [0.01, 0.02, 0.05, 0.1, 0.2, 0.5, 1.]$ and check the convergence and stability of the results as $\\Delta t$ becomes smaller. \n",
    "\n",
    "To this end, define an error as the difference in norm $L_1$ between results obtained with different integration steps $\\Delta t$, and the results obtained with the smaller integration step, as we did in some of the lessons.\n",
    "\n",
    "Check that the error is $O(\\Delta t)$, namely decreases linearly with $\\Delta t$ decreasing."
   ]
  },
  {
   "cell_type": "markdown",
   "metadata": {},
   "source": [
    "## For better grades\n",
    "\n",
    "In the previous section we have used a 1st order integration scheme: please implement also an higher order integration scheme, for instance one of the 2nd order integration schemes that have been proposed during the course.\n",
    "\n",
    "Check that the convergence is effectively of the second order as $\\Delta t$ becomes smaller, namely that the error is $O(\\Delta t^2)$, namely it decreases quadratically as $\\Delta t$ decreases."
   ]
  },
  {
   "cell_type": "markdown",
   "metadata": {},
   "source": [
    "## For even better grades\n",
    "\n",
    "The fatality rate for Covid-19 depends on the quality of the cures. If an healthcare system gets overwhelmed, it may not be able to administer appropriate care, because the number of beds in Intensive Care Units is limited.\n",
    "\n",
    "Let us assume that Lombardy has a maximum number of beds in ICU capped at $2\\cdot 10^3$, that $10\\%$ of the infectious $I$ require intensive care, and that people not receiving intensive care die with a fatality $\\alpha$ ten times larger.\n",
    "\n",
    "We model this behaviour with an effective $\\alpha_{eff}$ which depends on the number $I$ as follows\n",
    "\n",
    "\\begin{equation}\n",
    "\\alpha_{eff}(I) = \\alpha\\cdot\\left[\\frac{11}{2} + \\frac{9}{2}\\tanh\\left(\\frac{I-2\\cdot 10^4}{2\\cdot 10^3}\\right)\\right]\n",
    "\\end{equation}\n",
    "\n",
    "so that when $I$ goes above $2\\cdot 10^4$, requiring all $2\\cdot 10^3$ beds, the coefficient $\\alpha$ grows by a factor 10.\n",
    "\n",
    "Perform again the simulations using this variable $\\alpha_{eff}$ and discuss how the results change."
   ]
  },
  {
   "cell_type": "markdown",
   "metadata": {},
   "source": [
    "## References\n",
    "\n",
    "J.M.Carcione *et al.*, *A simulation of a COVID-19 epidemic based on deterministic SEIR model*, medRxiv preprint doi: https://doi.org/10.1101/2020.04.20.20072272, submitted to \"Frontiers in Public Health\"\n"
   ]
  }
 ],
 "metadata": {
  "kernelspec": {
   "display_name": "Python 3",
   "language": "python",
   "name": "python3"
  },
  "language_info": {
   "codemirror_mode": {
    "name": "ipython",
    "version": 3
   },
   "file_extension": ".py",
   "mimetype": "text/x-python",
   "name": "python",
   "nbconvert_exporter": "python",
   "pygments_lexer": "ipython3",
   "version": "3.8.5"
  }
 },
 "nbformat": 4,
 "nbformat_minor": 2
}
